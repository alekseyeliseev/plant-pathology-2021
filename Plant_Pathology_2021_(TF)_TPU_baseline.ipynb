{
  "nbformat": 4,
  "nbformat_minor": 0,
  "metadata": {
    "colab": {
      "name": "Plant Pathology 2021 (TF) TPU baseline.ipynb",
      "provenance": [],
      "toc_visible": true,
      "machine_shape": "hm",
      "authorship_tag": "ABX9TyNwMZ9hNTyYYIjx3IN36i53",
      "include_colab_link": true
    },
    "kernelspec": {
      "name": "python3",
      "display_name": "Python 3"
    },
    "language_info": {
      "name": "python"
    },
    "accelerator": "TPU"
  },
  "cells": [
    {
      "cell_type": "markdown",
      "metadata": {
        "id": "view-in-github",
        "colab_type": "text"
      },
      "source": [
        "<a href=\"https://colab.research.google.com/github/alekseyeliseev/plant-pathology-2021/blob/main/Plant_Pathology_2021_(TF)_TPU_baseline.ipynb\" target=\"_parent\"><img src=\"https://colab.research.google.com/assets/colab-badge.svg\" alt=\"Open In Colab\"/></a>"
      ]
    },
    {
      "cell_type": "markdown",
      "metadata": {
        "id": "_3eZ1a0PAQY8"
      },
      "source": [
        "## Imports"
      ]
    },
    {
      "cell_type": "code",
      "metadata": {
        "id": "GHzJfbPJATXv"
      },
      "source": [
        "import numpy as np\n",
        "import pandas as pd\n",
        "import os, random, cv2\n",
        "import matplotlib.pyplot as plt\n",
        "\n",
        "from sklearn.model_selection import GroupKFold, StratifiedKFold\n",
        "\n",
        "import tensorflow as tf\n",
        "from tensorflow import keras\n",
        "\n",
        "from keras.callbacks import ReduceLROnPlateau\n",
        "from keras.callbacks import EarlyStopping\n",
        "from keras.callbacks import ModelCheckpoint"
      ],
      "execution_count": null,
      "outputs": []
    },
    {
      "cell_type": "code",
      "metadata": {
        "id": "K2sTJ5fdAZWk"
      },
      "source": [
        "!pip install -qq tensorflow-addons\n",
        "\n",
        "import tensorflow_addons as tfa"
      ],
      "execution_count": null,
      "outputs": []
    },
    {
      "cell_type": "code",
      "metadata": {
        "colab": {
          "base_uri": "https://localhost:8080/"
        },
        "id": "_vZP1Eco07R2",
        "outputId": "416480e3-c09d-4034-ccdd-b731e0437cb6"
      },
      "source": [
        "print('Using tensorflow %s' % tf.__version__)\n",
        "\n",
        "try:\n",
        "    tpu = tf.distribute.cluster_resolver.TPUClusterResolver()  \n",
        "    print('Running on TPU ', tpu.master())\n",
        "except ValueError:\n",
        "    tpu = None\n",
        "\n",
        "if tpu:\n",
        "    tf.config.experimental_connect_to_cluster(tpu)\n",
        "    tf.tpu.experimental.initialize_tpu_system(tpu)\n",
        "    strategy = tf.distribute.TPUStrategy(tpu)\n",
        "else:\n",
        "    strategy = tf.distribute.get_strategy()\n",
        "\n",
        "print(\"REPLICAS: \", strategy.num_replicas_in_sync)"
      ],
      "execution_count": null,
      "outputs": [
        {
          "output_type": "stream",
          "text": [
            "Using tensorflow 2.4.1\n",
            "Running on TPU  grpc://10.114.239.106:8470\n",
            "INFO:tensorflow:Initializing the TPU system: grpc://10.114.239.106:8470\n"
          ],
          "name": "stdout"
        },
        {
          "output_type": "stream",
          "text": [
            "INFO:tensorflow:Initializing the TPU system: grpc://10.114.239.106:8470\n"
          ],
          "name": "stderr"
        },
        {
          "output_type": "stream",
          "text": [
            "INFO:tensorflow:Clearing out eager caches\n"
          ],
          "name": "stdout"
        },
        {
          "output_type": "stream",
          "text": [
            "INFO:tensorflow:Clearing out eager caches\n"
          ],
          "name": "stderr"
        },
        {
          "output_type": "stream",
          "text": [
            "INFO:tensorflow:Finished initializing TPU system.\n"
          ],
          "name": "stdout"
        },
        {
          "output_type": "stream",
          "text": [
            "INFO:tensorflow:Finished initializing TPU system.\n"
          ],
          "name": "stderr"
        },
        {
          "output_type": "stream",
          "text": [
            "INFO:tensorflow:Found TPU system:\n"
          ],
          "name": "stdout"
        },
        {
          "output_type": "stream",
          "text": [
            "INFO:tensorflow:Found TPU system:\n"
          ],
          "name": "stderr"
        },
        {
          "output_type": "stream",
          "text": [
            "INFO:tensorflow:*** Num TPU Cores: 8\n"
          ],
          "name": "stdout"
        },
        {
          "output_type": "stream",
          "text": [
            "INFO:tensorflow:*** Num TPU Cores: 8\n"
          ],
          "name": "stderr"
        },
        {
          "output_type": "stream",
          "text": [
            "INFO:tensorflow:*** Num TPU Workers: 1\n"
          ],
          "name": "stdout"
        },
        {
          "output_type": "stream",
          "text": [
            "INFO:tensorflow:*** Num TPU Workers: 1\n"
          ],
          "name": "stderr"
        },
        {
          "output_type": "stream",
          "text": [
            "INFO:tensorflow:*** Num TPU Cores Per Worker: 8\n"
          ],
          "name": "stdout"
        },
        {
          "output_type": "stream",
          "text": [
            "INFO:tensorflow:*** Num TPU Cores Per Worker: 8\n"
          ],
          "name": "stderr"
        },
        {
          "output_type": "stream",
          "text": [
            "INFO:tensorflow:*** Available Device: _DeviceAttributes(/job:localhost/replica:0/task:0/device:CPU:0, CPU, 0, 0)\n"
          ],
          "name": "stdout"
        },
        {
          "output_type": "stream",
          "text": [
            "INFO:tensorflow:*** Available Device: _DeviceAttributes(/job:localhost/replica:0/task:0/device:CPU:0, CPU, 0, 0)\n"
          ],
          "name": "stderr"
        },
        {
          "output_type": "stream",
          "text": [
            "INFO:tensorflow:*** Available Device: _DeviceAttributes(/job:worker/replica:0/task:0/device:CPU:0, CPU, 0, 0)\n"
          ],
          "name": "stdout"
        },
        {
          "output_type": "stream",
          "text": [
            "INFO:tensorflow:*** Available Device: _DeviceAttributes(/job:worker/replica:0/task:0/device:CPU:0, CPU, 0, 0)\n"
          ],
          "name": "stderr"
        },
        {
          "output_type": "stream",
          "text": [
            "INFO:tensorflow:*** Available Device: _DeviceAttributes(/job:worker/replica:0/task:0/device:TPU:0, TPU, 0, 0)\n"
          ],
          "name": "stdout"
        },
        {
          "output_type": "stream",
          "text": [
            "INFO:tensorflow:*** Available Device: _DeviceAttributes(/job:worker/replica:0/task:0/device:TPU:0, TPU, 0, 0)\n"
          ],
          "name": "stderr"
        },
        {
          "output_type": "stream",
          "text": [
            "INFO:tensorflow:*** Available Device: _DeviceAttributes(/job:worker/replica:0/task:0/device:TPU:1, TPU, 0, 0)\n"
          ],
          "name": "stdout"
        },
        {
          "output_type": "stream",
          "text": [
            "INFO:tensorflow:*** Available Device: _DeviceAttributes(/job:worker/replica:0/task:0/device:TPU:1, TPU, 0, 0)\n"
          ],
          "name": "stderr"
        },
        {
          "output_type": "stream",
          "text": [
            "INFO:tensorflow:*** Available Device: _DeviceAttributes(/job:worker/replica:0/task:0/device:TPU:2, TPU, 0, 0)\n"
          ],
          "name": "stdout"
        },
        {
          "output_type": "stream",
          "text": [
            "INFO:tensorflow:*** Available Device: _DeviceAttributes(/job:worker/replica:0/task:0/device:TPU:2, TPU, 0, 0)\n"
          ],
          "name": "stderr"
        },
        {
          "output_type": "stream",
          "text": [
            "INFO:tensorflow:*** Available Device: _DeviceAttributes(/job:worker/replica:0/task:0/device:TPU:3, TPU, 0, 0)\n"
          ],
          "name": "stdout"
        },
        {
          "output_type": "stream",
          "text": [
            "INFO:tensorflow:*** Available Device: _DeviceAttributes(/job:worker/replica:0/task:0/device:TPU:3, TPU, 0, 0)\n"
          ],
          "name": "stderr"
        },
        {
          "output_type": "stream",
          "text": [
            "INFO:tensorflow:*** Available Device: _DeviceAttributes(/job:worker/replica:0/task:0/device:TPU:4, TPU, 0, 0)\n"
          ],
          "name": "stdout"
        },
        {
          "output_type": "stream",
          "text": [
            "INFO:tensorflow:*** Available Device: _DeviceAttributes(/job:worker/replica:0/task:0/device:TPU:4, TPU, 0, 0)\n"
          ],
          "name": "stderr"
        },
        {
          "output_type": "stream",
          "text": [
            "INFO:tensorflow:*** Available Device: _DeviceAttributes(/job:worker/replica:0/task:0/device:TPU:5, TPU, 0, 0)\n"
          ],
          "name": "stdout"
        },
        {
          "output_type": "stream",
          "text": [
            "INFO:tensorflow:*** Available Device: _DeviceAttributes(/job:worker/replica:0/task:0/device:TPU:5, TPU, 0, 0)\n"
          ],
          "name": "stderr"
        },
        {
          "output_type": "stream",
          "text": [
            "INFO:tensorflow:*** Available Device: _DeviceAttributes(/job:worker/replica:0/task:0/device:TPU:6, TPU, 0, 0)\n"
          ],
          "name": "stdout"
        },
        {
          "output_type": "stream",
          "text": [
            "INFO:tensorflow:*** Available Device: _DeviceAttributes(/job:worker/replica:0/task:0/device:TPU:6, TPU, 0, 0)\n"
          ],
          "name": "stderr"
        },
        {
          "output_type": "stream",
          "text": [
            "INFO:tensorflow:*** Available Device: _DeviceAttributes(/job:worker/replica:0/task:0/device:TPU:7, TPU, 0, 0)\n"
          ],
          "name": "stdout"
        },
        {
          "output_type": "stream",
          "text": [
            "INFO:tensorflow:*** Available Device: _DeviceAttributes(/job:worker/replica:0/task:0/device:TPU:7, TPU, 0, 0)\n"
          ],
          "name": "stderr"
        },
        {
          "output_type": "stream",
          "text": [
            "INFO:tensorflow:*** Available Device: _DeviceAttributes(/job:worker/replica:0/task:0/device:TPU_SYSTEM:0, TPU_SYSTEM, 0, 0)\n"
          ],
          "name": "stdout"
        },
        {
          "output_type": "stream",
          "text": [
            "INFO:tensorflow:*** Available Device: _DeviceAttributes(/job:worker/replica:0/task:0/device:TPU_SYSTEM:0, TPU_SYSTEM, 0, 0)\n"
          ],
          "name": "stderr"
        },
        {
          "output_type": "stream",
          "text": [
            "INFO:tensorflow:*** Available Device: _DeviceAttributes(/job:worker/replica:0/task:0/device:XLA_CPU:0, XLA_CPU, 0, 0)\n"
          ],
          "name": "stdout"
        },
        {
          "output_type": "stream",
          "text": [
            "INFO:tensorflow:*** Available Device: _DeviceAttributes(/job:worker/replica:0/task:0/device:XLA_CPU:0, XLA_CPU, 0, 0)\n"
          ],
          "name": "stderr"
        },
        {
          "output_type": "stream",
          "text": [
            "REPLICAS:  8\n"
          ],
          "name": "stdout"
        }
      ]
    },
    {
      "cell_type": "markdown",
      "metadata": {
        "id": "Q1vKsaLkPOgD"
      },
      "source": [
        "## Data Loading"
      ]
    },
    {
      "cell_type": "code",
      "metadata": {
        "colab": {
          "base_uri": "https://localhost:8080/"
        },
        "id": "RG4QX6jWPCA-",
        "outputId": "0502090e-8a67-451c-e868-323f2b4f8ed9"
      },
      "source": [
        "from google.colab import drive\n",
        "\n",
        "drive.mount('/content/drive', force_remount=True)"
      ],
      "execution_count": null,
      "outputs": [
        {
          "output_type": "stream",
          "text": [
            "Mounted at /content/drive\n"
          ],
          "name": "stdout"
        }
      ]
    },
    {
      "cell_type": "code",
      "metadata": {
        "id": "38SMV0YpPQwg"
      },
      "source": [
        "#!unzip -qq 'drive/My Drive/Datasets/plant-pathology-2021-fgvc8.zip' -d '/content/sample_data'"
      ],
      "execution_count": null,
      "outputs": []
    },
    {
      "cell_type": "code",
      "metadata": {
        "id": "yJiTOWUu8RUx"
      },
      "source": [
        "!cp 'drive/My Drive/Datasets/train.csv' -d '/content/sample_data'"
      ],
      "execution_count": null,
      "outputs": []
    },
    {
      "cell_type": "code",
      "metadata": {
        "id": "Zk9YQLBJPa5q"
      },
      "source": [
        "import pandas as pd\n",
        "PATH = '/content/sample_data/'\n",
        "GCS_DS_PATH = 'gs://kds-252b4374f6acf74f9a270d11321c33a94cf2d7d8696d3a48b8f21509/'\n",
        "train_df = pd.read_csv(PATH + 'train.csv')"
      ],
      "execution_count": null,
      "outputs": []
    },
    {
      "cell_type": "markdown",
      "metadata": {
        "id": "vpq8qlrf_37x"
      },
      "source": [
        "##  Label formatting"
      ]
    },
    {
      "cell_type": "markdown",
      "metadata": {
        "id": "iv7bBJf6FHKb"
      },
      "source": [
        "### V1 Multiclass"
      ]
    },
    {
      "cell_type": "code",
      "metadata": {
        "id": "ONBxPXlgFSxC"
      },
      "source": [
        "from sklearn.preprocessing import LabelEncoder\n",
        "le = LabelEncoder()\n",
        "\n",
        "le.fit(train_df.labels)\n",
        "train_df['labels'] = le.transform(train_df.labels)"
      ],
      "execution_count": null,
      "outputs": []
    },
    {
      "cell_type": "code",
      "metadata": {
        "id": "YDYoj8vkFnTz"
      },
      "source": [
        "train = train_df.copy()"
      ],
      "execution_count": null,
      "outputs": []
    },
    {
      "cell_type": "code",
      "metadata": {
        "id": "As4UqHOKXrS3"
      },
      "source": [
        "train['path'] = GCS_DS_PATH + 'train_images/' + train['image']"
      ],
      "execution_count": null,
      "outputs": []
    },
    {
      "cell_type": "code",
      "metadata": {
        "colab": {
          "base_uri": "https://localhost:8080/",
          "height": 204
        },
        "id": "NQXYSfXhX_Qf",
        "outputId": "272af18a-03e0-4b65-9dfa-53980e95f331"
      },
      "source": [
        "train.head()"
      ],
      "execution_count": null,
      "outputs": [
        {
          "output_type": "execute_result",
          "data": {
            "text/html": [
              "<div>\n",
              "<style scoped>\n",
              "    .dataframe tbody tr th:only-of-type {\n",
              "        vertical-align: middle;\n",
              "    }\n",
              "\n",
              "    .dataframe tbody tr th {\n",
              "        vertical-align: top;\n",
              "    }\n",
              "\n",
              "    .dataframe thead th {\n",
              "        text-align: right;\n",
              "    }\n",
              "</style>\n",
              "<table border=\"1\" class=\"dataframe\">\n",
              "  <thead>\n",
              "    <tr style=\"text-align: right;\">\n",
              "      <th></th>\n",
              "      <th>image</th>\n",
              "      <th>labels</th>\n",
              "      <th>path</th>\n",
              "    </tr>\n",
              "  </thead>\n",
              "  <tbody>\n",
              "    <tr>\n",
              "      <th>0</th>\n",
              "      <td>800113bb65efe69e.jpg</td>\n",
              "      <td>3</td>\n",
              "      <td>gs://kds-252b4374f6acf74f9a270d11321c33a94cf2d...</td>\n",
              "    </tr>\n",
              "    <tr>\n",
              "      <th>1</th>\n",
              "      <td>8002cb321f8bfcdf.jpg</td>\n",
              "      <td>11</td>\n",
              "      <td>gs://kds-252b4374f6acf74f9a270d11321c33a94cf2d...</td>\n",
              "    </tr>\n",
              "    <tr>\n",
              "      <th>2</th>\n",
              "      <td>80070f7fb5e2ccaa.jpg</td>\n",
              "      <td>9</td>\n",
              "      <td>gs://kds-252b4374f6acf74f9a270d11321c33a94cf2d...</td>\n",
              "    </tr>\n",
              "    <tr>\n",
              "      <th>3</th>\n",
              "      <td>80077517781fb94f.jpg</td>\n",
              "      <td>9</td>\n",
              "      <td>gs://kds-252b4374f6acf74f9a270d11321c33a94cf2d...</td>\n",
              "    </tr>\n",
              "    <tr>\n",
              "      <th>4</th>\n",
              "      <td>800cbf0ff87721f8.jpg</td>\n",
              "      <td>0</td>\n",
              "      <td>gs://kds-252b4374f6acf74f9a270d11321c33a94cf2d...</td>\n",
              "    </tr>\n",
              "  </tbody>\n",
              "</table>\n",
              "</div>"
            ],
            "text/plain": [
              "                  image  ...                                               path\n",
              "0  800113bb65efe69e.jpg  ...  gs://kds-252b4374f6acf74f9a270d11321c33a94cf2d...\n",
              "1  8002cb321f8bfcdf.jpg  ...  gs://kds-252b4374f6acf74f9a270d11321c33a94cf2d...\n",
              "2  80070f7fb5e2ccaa.jpg  ...  gs://kds-252b4374f6acf74f9a270d11321c33a94cf2d...\n",
              "3  80077517781fb94f.jpg  ...  gs://kds-252b4374f6acf74f9a270d11321c33a94cf2d...\n",
              "4  800cbf0ff87721f8.jpg  ...  gs://kds-252b4374f6acf74f9a270d11321c33a94cf2d...\n",
              "\n",
              "[5 rows x 3 columns]"
            ]
          },
          "metadata": {
            "tags": []
          },
          "execution_count": 11
        }
      ]
    },
    {
      "cell_type": "markdown",
      "metadata": {
        "id": "trZXjt4FQFZR"
      },
      "source": [
        "## Helper Function"
      ]
    },
    {
      "cell_type": "code",
      "metadata": {
        "id": "qRPVHGnkQI4X"
      },
      "source": [
        "def seed_everything(seed=0):\n",
        "    random.seed(seed)\n",
        "    np.random.seed(seed)\n",
        "    tf.random.set_seed(seed)\n",
        "    os.environ['PYTHONHASHSEED'] = str(seed)\n",
        "    os.environ['TF_DETERMINISTIC_OPS'] = '1'"
      ],
      "execution_count": null,
      "outputs": []
    },
    {
      "cell_type": "markdown",
      "metadata": {
        "id": "TFamhNbEP-Oy"
      },
      "source": [
        "## Global config"
      ]
    },
    {
      "cell_type": "code",
      "metadata": {
        "id": "mc51VjFjP_co"
      },
      "source": [
        "CFG = {\n",
        "    'n_classes':12,\n",
        "    'fold_num': 5,\n",
        "    'seed': 42,\n",
        "    'img_size': 512,\n",
        "    'epochs': 20,\n",
        "    'train_bs': 8 * strategy.num_replicas_in_sync,\n",
        "    'valid_bs': 32 * strategy.num_replicas_in_sync,\n",
        "    'verbose_step': 1,\n",
        "    \n",
        "    'optimizer':'Adam',\n",
        "    'lr': 1e-4,\n",
        " \n",
        "    'used_folds':[0]\n",
        "}"
      ],
      "execution_count": null,
      "outputs": []
    },
    {
      "cell_type": "markdown",
      "metadata": {
        "id": "9lsl8OXfQYi4"
      },
      "source": [
        "## Classifier"
      ]
    },
    {
      "cell_type": "code",
      "metadata": {
        "id": "TyBc3-KlTRZw"
      },
      "source": [
        "!pip install -q efficientnet"
      ],
      "execution_count": null,
      "outputs": []
    },
    {
      "cell_type": "code",
      "metadata": {
        "id": "Ft7MoqRETVh8"
      },
      "source": [
        "def create_model():  \n",
        "  import efficientnet.tfkeras as efn \n",
        "  from keras.models import Model\n",
        "  from keras.layers import Input, Dense, Dropout, GlobalAveragePooling2D\n",
        "\n",
        "  shape = (CFG['img_size'], CFG['img_size'], 3)\n",
        "\n",
        "  efficientnet = efn.EfficientNetB7(weights='noisy-student', include_top=False, \n",
        "                                    input_shape=shape)\n",
        "  x = efficientnet.output\n",
        "  x = GlobalAveragePooling2D()(x)\n",
        "  x = tf.keras.layers.Dense(512) (x)\n",
        "  x = tf.keras.layers.LeakyReLU(alpha=0.2) (x)\n",
        "  x = tf.keras.layers.Dropout(0.3) (x)\n",
        "  x = tf.keras.layers.Dense(256) (x)\n",
        "  x = tf.keras.layers.LeakyReLU(alpha=0.2) (x)\n",
        "  x = tf.keras.layers.GaussianDropout(0.4) (x)\n",
        "  outputs = Dense(CFG['n_classes'], activation='softmax')(x)\n",
        "        \n",
        "  model = Model(efficientnet.input, outputs)\n",
        "\n",
        "  return model"
      ],
      "execution_count": null,
      "outputs": []
    },
    {
      "cell_type": "code",
      "metadata": {
        "id": "85ziJx5DRFqz"
      },
      "source": [
        "def compile_model(model, lr):\n",
        "    \n",
        "    optimizer = tf.keras.optimizers.Adam(learning_rate=lr)\n",
        "    \n",
        "    loss = tf.keras.losses.CategoricalCrossentropy()\n",
        "        \n",
        "    metrics = [\n",
        "       tfa.metrics.F1Score(num_classes=CFG['n_classes'], average='macro', name='f1_score'),\n",
        "       tf.keras.metrics.CategoricalAccuracy(name='accuracy')\n",
        "    ]\n",
        "\n",
        "    model.compile(optimizer=optimizer, loss=loss, metrics=metrics)\n",
        "\n",
        "    return model"
      ],
      "execution_count": null,
      "outputs": []
    },
    {
      "cell_type": "markdown",
      "metadata": {
        "id": "qj6Iz6VCQcLJ"
      },
      "source": [
        "## Transfroms"
      ]
    },
    {
      "cell_type": "code",
      "metadata": {
        "id": "fV3PD1ORd1co"
      },
      "source": [
        " def train_aug(image_path, label):\n",
        "  image = tf.io.read_file(image_path)\n",
        "  \n",
        "  image = tf.image.decode_jpeg(image, channels=3)\n",
        "  image = tf.cast(image, tf.float32) / 255.0\n",
        "\n",
        "  #image = tf.image.random_crop(image, size=[CFG['img_size'], CFG['img_size'], 3])\n",
        "  #image = tf.image.random_brightness(image, max_delta=0.5)\n",
        "  #image = tf.clip_by_value(image, 0, 1)\n",
        "\n",
        "  p_spatial = tf.random.uniform([], 0, 1.0, dtype=tf.float32)\n",
        "  p_rotate = tf.random.uniform([], 0, 1.0, dtype=tf.float32)\n",
        "  p_pixel_1 = tf.random.uniform([], 0, 1.0, dtype=tf.float32)\n",
        "  p_pixel_2 = tf.random.uniform([], 0, 1.0, dtype=tf.float32)\n",
        "  p_pixel_3 = tf.random.uniform([], 0, 1.0, dtype=tf.float32)\n",
        "  p_crop = tf.random.uniform([], 0, 1.0, dtype=tf.float32)\n",
        "            \n",
        "  # Flips\n",
        "  image = tf.image.random_flip_left_right(image)\n",
        "  image = tf.image.random_flip_up_down(image)\n",
        "  if p_spatial > .75:\n",
        "    image = tf.image.transpose(image)\n",
        "        \n",
        "  # Rotates\n",
        "  if p_rotate > .75:\n",
        "    image = tf.image.rot90(image, k=3) \n",
        "  elif p_rotate > .5:\n",
        "    image = tf.image.rot90(image, k=2) \n",
        "  elif p_rotate > .25:\n",
        "    image = tf.image.rot90(image, k=1) \n",
        "        \n",
        "    \n",
        "  if p_pixel_1 >= .4:\n",
        "    image = tf.image.random_saturation(image, lower=.7, upper=1.3)\n",
        "  if p_pixel_2 >= .4:\n",
        "    image = tf.image.random_contrast(image, lower=.8, upper=1.2)\n",
        "  if p_pixel_3 >= .4:\n",
        "    image = tf.image.random_brightness(image, max_delta=.1)\n",
        "        \n",
        "    \n",
        "  if p_crop > .7:\n",
        "    if p_crop > .9:\n",
        "      image = tf.image.central_crop(image, central_fraction=.7)\n",
        "    elif p_crop > .8:\n",
        "      image = tf.image.central_crop(image, central_fraction=.8)\n",
        "    else:\n",
        "      image = tf.image.central_crop(image, central_fraction=.9)\n",
        "  elif p_crop > .4:\n",
        "    crop_size = tf.random.uniform([], int(CFG['img_size']*.8), CFG['img_size'], dtype=tf.int32)\n",
        "    image = tf.image.random_crop(image, size=[crop_size, crop_size, 3])\n",
        "    \n",
        "  image = tf.image.resize(image, [CFG['img_size'], CFG['img_size']])\n",
        "    \n",
        "  #imgage = tf.reshape(image, [CFG['img_size'], CFG['img_size'], 3])   \n",
        "  label = tf.one_hot(tf.cast(label, tf.int32), CFG['n_classes'])\n",
        "  \n",
        "  return image, label"
      ],
      "execution_count": null,
      "outputs": []
    },
    {
      "cell_type": "code",
      "metadata": {
        "id": "eHBJgvA3PVNN"
      },
      "source": [
        "def valid_aug(image_path, label):\n",
        "  image = tf.io.read_file(image_path)\n",
        "  \n",
        "  image = tf.image.decode_jpeg(image, channels=3)\n",
        "  image = tf.cast(image, tf.float32) / 255.0\n",
        "\n",
        "  image = tf.image.central_crop(image, central_fraction=.7)\n",
        "  image = tf.image.resize(image, [CFG['img_size'], CFG['img_size']])\n",
        "  \n",
        "  #imgage = tf.reshape(image, [CFG['img_size'], CFG['img_size'], 3])\n",
        "  label = tf.one_hot(tf.cast(label, tf.int32), CFG['n_classes'])\n",
        "\n",
        "  return image, label"
      ],
      "execution_count": null,
      "outputs": []
    },
    {
      "cell_type": "markdown",
      "metadata": {
        "id": "0-gS55dtxR70"
      },
      "source": [
        "## Dataloader"
      ]
    },
    {
      "cell_type": "code",
      "metadata": {
        "id": "T45Y8S6dQhHL"
      },
      "source": [
        "AUTOTUNE = tf.data.experimental.AUTOTUNE\n",
        "\n",
        "def prepare_dataset(train_df, valid_df):\n",
        "  \n",
        "  train_ds = tf.data.Dataset.from_tensor_slices((train_df.path.values, train_df.labels.values))\n",
        "  valid_ds = tf.data.Dataset.from_tensor_slices((valid_df.path.values, valid_df.labels.values))\n",
        "\n",
        "  train_ds_aug = train_ds.map(train_aug, num_parallel_calls=AUTOTUNE).batch(CFG['train_bs']).prefetch(AUTOTUNE)\n",
        "  valid_ds_aug= valid_ds.map(valid_aug, num_parallel_calls=AUTOTUNE).batch(CFG['valid_bs'])\n",
        "\n",
        "  return train_ds_aug, valid_ds_aug"
      ],
      "execution_count": null,
      "outputs": []
    },
    {
      "cell_type": "markdown",
      "metadata": {
        "id": "zyOBY-w0UA5z"
      },
      "source": [
        "##Modeling"
      ]
    },
    {
      "cell_type": "code",
      "metadata": {
        "id": "VA2SJ2_4WHWc"
      },
      "source": [
        "lr_reduce=ReduceLROnPlateau(monitor='val_accuracy',\n",
        "                            factor=.5,\n",
        "                            patience=3,\n",
        "                            mode='max',\n",
        "                            min_lr=.000001,\n",
        "                            verbose=1)\n",
        "\n",
        "es_monitor=EarlyStopping(monitor='val_accuracy',\n",
        "                         patience=6,\n",
        "                         mode='max',\n",
        "                         verbose=1,\n",
        "                         restore_best_weights=True)\n",
        "\n",
        "mdl_check = ModelCheckpoint(filepath='./best_model.h5',\n",
        "                            monitor='val_accuracy', \n",
        "                            verbose=0, \n",
        "                            save_best_only=True, \n",
        "                            save_weights_only=True, \n",
        "                            mode='max')\n"
      ],
      "execution_count": null,
      "outputs": []
    },
    {
      "cell_type": "code",
      "metadata": {
        "colab": {
          "base_uri": "https://localhost:8080/"
        },
        "id": "bLy03xzy71Iz",
        "outputId": "eab5f5c5-f72d-43a1-db3d-111d6835d357"
      },
      "source": [
        "loss = []\n",
        "acc = []\n",
        "\n",
        "seed_everything(CFG['seed'])\n",
        "\n",
        "folds = StratifiedKFold(n_splits=CFG['fold_num'], shuffle=True, random_state=CFG['seed']).split(train.image, train.labels)\n",
        "for ix, (train_idx, val_idx) in enumerate(folds):\n",
        "  \n",
        "  #debug\n",
        "  if ix not in CFG['used_folds']:\n",
        "    break\n",
        "\n",
        "  print(f'Fold {ix+1}')\n",
        "\n",
        "  if tpu is not None: \n",
        "    tf.tpu.experimental.initialize_tpu_system(tpu)\n",
        "\n",
        "  train_ = train.iloc[train_idx]\n",
        "  valid_ = train.iloc[val_idx]\n",
        "        \n",
        "  train_ds, valid_ds = prepare_dataset(train_,valid_)\n",
        "\n",
        "  with strategy.scope():\n",
        "  \n",
        "    model = create_model()\n",
        "    model = compile_model(model, lr=CFG['lr'])\n",
        "    \n",
        "  \n",
        "    history = model.fit(train_ds,\n",
        "                     epochs = CFG['epochs'],\n",
        "                     verbose = 1,\n",
        "                     callbacks = [mdl_check,\n",
        "                                  lr_reduce,\n",
        "                                  es_monitor\n",
        "                                  ],\n",
        "                     validation_data = valid_ds)\n",
        "  \n",
        "  print('\\n\\n')"
      ],
      "execution_count": null,
      "outputs": [
        {
          "output_type": "stream",
          "text": [
            "Fold 1\n",
            "WARNING:tensorflow:TPU system grpc://10.114.239.106:8470 has already been initialized. Reinitializing the TPU can cause previously created variables on TPU to be lost.\n"
          ],
          "name": "stdout"
        },
        {
          "output_type": "stream",
          "text": [
            "WARNING:tensorflow:TPU system grpc://10.114.239.106:8470 has already been initialized. Reinitializing the TPU can cause previously created variables on TPU to be lost.\n"
          ],
          "name": "stderr"
        },
        {
          "output_type": "stream",
          "text": [
            "INFO:tensorflow:Initializing the TPU system: grpc://10.114.239.106:8470\n"
          ],
          "name": "stdout"
        },
        {
          "output_type": "stream",
          "text": [
            "INFO:tensorflow:Initializing the TPU system: grpc://10.114.239.106:8470\n"
          ],
          "name": "stderr"
        },
        {
          "output_type": "stream",
          "text": [
            "INFO:tensorflow:Clearing out eager caches\n"
          ],
          "name": "stdout"
        },
        {
          "output_type": "stream",
          "text": [
            "INFO:tensorflow:Clearing out eager caches\n"
          ],
          "name": "stderr"
        },
        {
          "output_type": "stream",
          "text": [
            "INFO:tensorflow:Finished initializing TPU system.\n"
          ],
          "name": "stdout"
        },
        {
          "output_type": "stream",
          "text": [
            "INFO:tensorflow:Finished initializing TPU system.\n"
          ],
          "name": "stderr"
        },
        {
          "output_type": "stream",
          "text": [
            "Epoch 1/20\n",
            "233/233 [==============================] - 691s 2s/step - loss: 1.9632 - f1_score: 0.1282 - accuracy: 0.3373 - val_loss: 0.6994 - val_f1_score: 0.3989 - val_accuracy: 0.7891\n",
            "Epoch 2/20\n",
            "233/233 [==============================] - 456s 2s/step - loss: 1.0364 - f1_score: 0.3334 - accuracy: 0.6746 - val_loss: 0.4675 - val_f1_score: 0.4319 - val_accuracy: 0.8535\n",
            "Epoch 3/20\n",
            "233/233 [==============================] - 461s 2s/step - loss: 0.8729 - f1_score: 0.3653 - accuracy: 0.7221 - val_loss: 0.4256 - val_f1_score: 0.4392 - val_accuracy: 0.8645\n",
            "Epoch 4/20\n",
            "233/233 [==============================] - 463s 2s/step - loss: 0.7763 - f1_score: 0.3887 - accuracy: 0.7512 - val_loss: 0.3929 - val_f1_score: 0.4480 - val_accuracy: 0.8771\n",
            "Epoch 5/20\n",
            "233/233 [==============================] - 469s 2s/step - loss: 0.7203 - f1_score: 0.4042 - accuracy: 0.7660 - val_loss: 0.3801 - val_f1_score: 0.4740 - val_accuracy: 0.8758\n",
            "Epoch 6/20\n",
            "233/233 [==============================] - 453s 2s/step - loss: 0.6759 - f1_score: 0.4137 - accuracy: 0.7693 - val_loss: 0.4156 - val_f1_score: 0.4781 - val_accuracy: 0.8726\n",
            "Epoch 7/20\n",
            "233/233 [==============================] - 450s 2s/step - loss: 0.6357 - f1_score: 0.4489 - accuracy: 0.7922 - val_loss: 0.3931 - val_f1_score: 0.4986 - val_accuracy: 0.8814\n",
            "Epoch 8/20\n",
            "233/233 [==============================] - 451s 2s/step - loss: 0.5970 - f1_score: 0.4743 - accuracy: 0.7995 - val_loss: 0.3978 - val_f1_score: 0.4897 - val_accuracy: 0.8825\n",
            "Epoch 9/20\n",
            "233/233 [==============================] - 456s 2s/step - loss: 0.5686 - f1_score: 0.4689 - accuracy: 0.8075 - val_loss: 0.4415 - val_f1_score: 0.4722 - val_accuracy: 0.8744\n",
            "Epoch 10/20\n",
            "233/233 [==============================] - 467s 2s/step - loss: 0.5450 - f1_score: 0.5314 - accuracy: 0.8188 - val_loss: 0.4174 - val_f1_score: 0.5054 - val_accuracy: 0.8876\n",
            "Epoch 11/20\n",
            "233/233 [==============================] - 459s 2s/step - loss: 0.5227 - f1_score: 0.5532 - accuracy: 0.8251 - val_loss: 0.4471 - val_f1_score: 0.5097 - val_accuracy: 0.8833\n",
            "Epoch 12/20\n",
            "233/233 [==============================] - 445s 2s/step - loss: 0.5075 - f1_score: 0.6008 - accuracy: 0.8312 - val_loss: 0.4873 - val_f1_score: 0.5506 - val_accuracy: 0.8817\n",
            "Epoch 13/20\n",
            "233/233 [==============================] - 448s 2s/step - loss: 0.4619 - f1_score: 0.6170 - accuracy: 0.8474 - val_loss: 0.4864 - val_f1_score: 0.5654 - val_accuracy: 0.8865\n",
            "\n",
            "Epoch 00013: ReduceLROnPlateau reducing learning rate to 4.999999873689376e-05.\n",
            "Epoch 14/20\n",
            "233/233 [==============================] - 454s 2s/step - loss: 0.4428 - f1_score: 0.6523 - accuracy: 0.8531 - val_loss: 0.5025 - val_f1_score: 0.5668 - val_accuracy: 0.8803\n",
            "Epoch 15/20\n",
            "233/233 [==============================] - 461s 2s/step - loss: 0.4136 - f1_score: 0.7021 - accuracy: 0.8656 - val_loss: 0.5099 - val_f1_score: 0.5798 - val_accuracy: 0.8827\n",
            "Epoch 16/20\n",
            "233/233 [==============================] - 454s 2s/step - loss: 0.3918 - f1_score: 0.6924 - accuracy: 0.8700 - val_loss: 0.5107 - val_f1_score: 0.5840 - val_accuracy: 0.8827\n",
            "\n",
            "Epoch 00016: ReduceLROnPlateau reducing learning rate to 2.499999936844688e-05.\n",
            "Restoring model weights from the end of the best epoch.\n",
            "Epoch 00016: early stopping\n",
            "\n",
            "\n",
            "\n"
          ],
          "name": "stdout"
        }
      ]
    },
    {
      "cell_type": "code",
      "metadata": {
        "colab": {
          "base_uri": "https://localhost:8080/"
        },
        "id": "mM3NRuw_LgiP",
        "outputId": "76df919a-a676-4058-d531-0164548f6d97"
      },
      "source": [
        "from datetime import datetime\n",
        "\n",
        "now = datetime.now().strftime(\"%Y-%m-%d-%H-%M\")\n",
        "filename = 'model_{}.h5'.format(now)\n",
        "os.system(\"cp ./best_model.h5 'drive/My Drive/Plant Pathology Weights/temp/{0}'\".format(filename))"
      ],
      "execution_count": null,
      "outputs": [
        {
          "output_type": "execute_result",
          "data": {
            "text/plain": [
              "0"
            ]
          },
          "metadata": {
            "tags": []
          },
          "execution_count": 23
        }
      ]
    },
    {
      "cell_type": "code",
      "metadata": {
        "id": "BeW8uLjHXDkb",
        "colab": {
          "base_uri": "https://localhost:8080/",
          "height": 714
        },
        "outputId": "62fdf7e6-bd1a-4739-ecda-2a8847e77705"
      },
      "source": [
        "h = history.history\n",
        "\n",
        "offset = 0\n",
        "epochs = range(offset, len(h['loss']))\n",
        "\n",
        "plt.figure(1, figsize=(12, 12))\n",
        "\n",
        "plt.subplot(211)\n",
        "plt.xlabel('epochs')\n",
        "plt.ylabel('loss')\n",
        "plt.plot(epochs, h['loss'][offset:], '-o',label='train')\n",
        "plt.plot(epochs, h['val_loss'][offset:], '-o', label='val')\n",
        "plt.legend()\n",
        "\n",
        "plt.subplot(212)\n",
        "plt.xlabel('epochs')\n",
        "plt.ylabel('accuracy')\n",
        "plt.plot(h[f'accuracy'],'-o', label='train')\n",
        "plt.plot(h[f'val_accuracy'], '-o', label='val')\n",
        "plt.legend()\n",
        "\n",
        "plt.show()"
      ],
      "execution_count": null,
      "outputs": [
        {
          "output_type": "display_data",
          "data": {
            "image/png": "[encoded data removed]",
            "text/plain": [
              "<Figure size 864x864 with 2 Axes>"
            ]
          },
          "metadata": {
            "tags": [],
            "needs_background": "light"
          }
        }
      ]
    }
  ]
}